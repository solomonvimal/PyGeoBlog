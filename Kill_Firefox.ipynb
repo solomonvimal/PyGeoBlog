{
 "cells": [
  {
   "cell_type": "code",
   "execution_count": 32,
   "metadata": {},
   "outputs": [
    {
     "name": "stdout",
     "output_type": "stream",
     "text": [
      "Killing processes after 15 seconds 20775 20581 20107 12770 12698 12621 12541 12464 12392 12319 12248 12172 12091 12017 11946 11866 11790 11713 11640 11563 11487 11414 11335 11260 11191 11117 11044 10970 10883 10809 10728 10659 10570 10489 10414 10338 10262 10194 10118 10042 9969 9896 9820 9751 9681 9609 9535 9461 9381 9311 9240 9158 9087 9016 8944\n",
      "\n"
     ]
    }
   ],
   "source": [
    "import time, os, subprocess\n",
    "for i in range(1):\n",
    "    time.sleep(1)\n",
    "    text = subprocess.check_output([\"pidof\", \"firefox\"])\n",
    "    print \"Killing processes after 15 seconds\", text\n",
    "    time.sleep(15)\n",
    "    os.system(\"kill \"+ text.strip(\"\\n\"))"
   ]
  },
  {
   "cell_type": "code",
   "execution_count": 31,
   "metadata": {},
   "outputs": [
    {
     "data": {
      "text/html": [
       "<div style=\"width:100%;\"><div style=\"position:relative;width:100%;height:0;padding-bottom:60%;\"><iframe src=\"data:text/html;charset=utf-8;base64,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\" style=\"position:absolute;width:100%;height:100%;left:0;top:0;border:none !important;\" allowfullscreen webkitallowfullscreen mozallowfullscreen></iframe></div></div>"
      ],
      "text/plain": [
       "<folium.folium.Map at 0x7f223881d050>"
      ]
     },
     "execution_count": 31,
     "metadata": {},
     "output_type": "execute_result"
    }
   ],
   "source": [
    "import pandas as pd\n",
    "import geopandas as gpd\n",
    "import numpy as np\n",
    "import folium\n",
    "from folium.plugins import MarkerCluster\n",
    "from folium import IFrame\n",
    "import shapely\n",
    "from shapely.geometry import Point\n",
    "import unicodedata\n",
    "import pysal as ps\n",
    "import numpy as np\n",
    "import base64\n",
    "import numpy as np\n",
    "#lons = [77.57067837440151, 80.1999, 77.57101899999999]\n",
    "#lats = [13.04360946323446, 12.616, 13.01564]\n",
    "import base64\n",
    "m = folium.Map([np.mean(lats), np.mean(lons)], zoom_start = 2)\n",
    "width, height, resolution = 30, 3, 10\n",
    "\n",
    "for i, lat in enumerate(lats):\n",
    "    lon = lons[i]\n",
    "    icon = folium.Icon(color=\"green\", icon=\"ok\")\n",
    "    html =  \"<html><header><title>This is title</title></header><body>Lat \" + str(lat) + \", Lon \" + str(lon) +\"</body></html>\" \n",
    "    #'<img src=\"data:image/png;base64,{}\">'.format\n",
    "    iframe = IFrame(html, width=(width*resolution), height=(height*resolution)+90)\n",
    "    popup = folium.Popup(iframe, max_width=2650)\n",
    "    icon = folium.Icon(color=\"green\", icon=\"ok\")\n",
    "    marker = folium.Marker(location=[lat, lon], popup=popup, icon=icon)\n",
    "    marker.add_to(m)\n",
    "    \n",
    "#m.save(\"google_bookmarks.html\")\n",
    "m"
   ]
  },
  {
   "cell_type": "code",
   "execution_count": 34,
   "metadata": {},
   "outputs": [
    {
     "data": {
      "text/plain": [
       "(13.04360946323446, 77.57067837440151)"
      ]
     },
     "execution_count": 34,
     "metadata": {},
     "output_type": "execute_result"
    }
   ],
   "source": [
    "locationlist = zip(lats, lons)\n",
    "locationlist[0]"
   ]
  },
  {
   "cell_type": "code",
   "execution_count": 36,
   "metadata": {},
   "outputs": [
    {
     "data": {
      "text/plain": [
       "\"map2 = folium.Map([np.mean(lats), np.mean(lons)],tiles='CartoDB dark_matter', zoom_start = 2)\\nmarker_cluster = folium.MarkerCluster().add_to(map2)\\nfor point in range(0, len(locationlist)):\\n    folium.Marker(locationlist[point], popup=good_urls[point]).add_to(marker_cluster)\\nmap2\""
      ]
     },
     "execution_count": 36,
     "metadata": {},
     "output_type": "execute_result"
    }
   ],
   "source": [
    "\"\"\"map2 = folium.Map([np.mean(lats), np.mean(lons)],tiles='CartoDB dark_matter', zoom_start = 2)\n",
    "marker_cluster = folium.MarkerCluster().add_to(map2)\n",
    "for point in range(0, len(locationlist)):\n",
    "    folium.Marker(locationlist[point], popup=good_urls[point]).add_to(marker_cluster)\n",
    "map2\"\"\""
   ]
  }
 ],
 "metadata": {
  "kernelspec": {
   "display_name": "Python 2",
   "language": "python",
   "name": "python2"
  },
  "language_info": {
   "codemirror_mode": {
    "name": "ipython",
    "version": 2
   },
   "file_extension": ".py",
   "mimetype": "text/x-python",
   "name": "python",
   "nbconvert_exporter": "python",
   "pygments_lexer": "ipython2",
   "version": "2.7.12"
  }
 },
 "nbformat": 4,
 "nbformat_minor": 2
}
